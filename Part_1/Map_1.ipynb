{
 "cells": [
  {
   "cell_type": "code",
   "execution_count": 1,
   "metadata": {
    "collapsed": true
   },
   "outputs": [],
   "source": [
    "import pandas as pd\n",
    "import altair as alt\n",
    "import geopandas as gpd"
   ]
  },
  {
   "cell_type": "code",
   "execution_count": 2,
   "outputs": [],
   "source": [
    "# load data and preprocess\n",
    "data = pd.read_csv(\"/Users/lukeshuo/Documents/GitHub/Altair/europe_covid.csv\")\n",
    "data = data[data.Country != 'Channel Islands']\n",
    "data = data[data.Country != 'Gibraltar']\n",
    "data = data[data.Country != 'Isle of Man']\n",
    "data.replace(['UK'], ['United Kingdom'], inplace=True)\n",
    "data.replace(['Czechia'], ['Czech Republic'], inplace=True)\n",
    "data.replace(['Faeroe Islands'], ['Faroe Islands'], inplace=True)\n",
    "data.replace(['Moldova'], ['Republic of Moldova'], inplace=True)\n",
    "data.replace(['North Macedonia'], ['The former Yugoslav Republic of Macedonia'], inplace=True)"
   ],
   "metadata": {
    "collapsed": false
   }
  },
  {
   "cell_type": "code",
   "execution_count": 3,
   "outputs": [],
   "source": [
    "# load EU map data\n",
    "eu_data = gpd.read_file('/Users/lukeshuo/Documents/GitHub/Altair/materials/europe-economy-visualization-master/data/europe.geojson')"
   ],
   "metadata": {
    "collapsed": false
   }
  },
  {
   "cell_type": "code",
   "execution_count": 4,
   "outputs": [],
   "source": [
    "map = alt.Chart(eu_data, width=1040, height=640).mark_geoshape().encode(\n",
    "    color = alt.condition('datum[\"Total Cases\"] != NaN', alt.Color('Total Cases:Q') ,alt.value('lightgray')),\n",
    "    tooltip = ['NAME', 'Active Cases:Q', 'Total Cases:Q','Total Deaths:Q','Total Recovered:Q'],\n",
    ").project(\n",
    "    'naturalEarth1'\n",
    ").transform_lookup(\n",
    "    lookup='NAME',\n",
    "    from_=alt.LookupData(data, 'Country', ['Active Cases','Total Cases','Total Deaths','Total Recovered'])\n",
    ")"
   ],
   "metadata": {
    "collapsed": false
   }
  },
  {
   "cell_type": "code",
   "execution_count": 6,
   "outputs": [],
   "source": [
    "map.save('map.html')"
   ],
   "metadata": {
    "collapsed": false
   }
  },
  {
   "cell_type": "code",
   "execution_count": null,
   "outputs": [],
   "source": [],
   "metadata": {
    "collapsed": false
   }
  }
 ],
 "metadata": {
  "kernelspec": {
   "display_name": "Python 3",
   "language": "python",
   "name": "python3"
  },
  "language_info": {
   "codemirror_mode": {
    "name": "ipython",
    "version": 2
   },
   "file_extension": ".py",
   "mimetype": "text/x-python",
   "name": "python",
   "nbconvert_exporter": "python",
   "pygments_lexer": "ipython2",
   "version": "2.7.6"
  }
 },
 "nbformat": 4,
 "nbformat_minor": 0
}
