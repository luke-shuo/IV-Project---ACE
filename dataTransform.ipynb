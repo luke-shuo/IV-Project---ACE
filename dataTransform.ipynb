{
 "cells": [
  {
   "cell_type": "code",
   "execution_count": 1,
   "metadata": {
    "collapsed": true
   },
   "outputs": [],
   "source": [
    "import pandas as pd\n",
    "import altair as alt\n",
    "movies_url = 'https://cdn.jsdelivr.net/npm/vega-datasets@1/data/movies.json'\n",
    "movies = pd.read_json(movies_url)"
   ]
  },
  {
   "cell_type": "code",
   "execution_count": 3,
   "outputs": [
    {
     "data": {
      "text/plain": "                        Title   US_Gross  Worldwide_Gross  US_DVD_Sales  \\\n0              The Land Girls   146083.0         146083.0           NaN   \n1      First Love, Last Rites    10876.0          10876.0           NaN   \n2  I Married a Strange Person   203134.0         203134.0           NaN   \n3        Let's Talk About Sex   373615.0         373615.0           NaN   \n4                        Slam  1009819.0        1087521.0           NaN   \n\n   Production_Budget Release_Date MPAA_Rating  Running_Time_min Distributor  \\\n0          8000000.0  Jun 12 1998           R               NaN    Gramercy   \n1           300000.0  Aug 07 1998           R               NaN      Strand   \n2           250000.0  Aug 28 1998        None               NaN   Lionsgate   \n3           300000.0  Sep 11 1998        None               NaN   Fine Line   \n4          1000000.0  Oct 09 1998           R               NaN     Trimark   \n\n                Source Major_Genre         Creative_Type Director  \\\n0                 None        None                  None     None   \n1                 None       Drama                  None     None   \n2                 None      Comedy                  None     None   \n3                 None      Comedy                  None     None   \n4  Original Screenplay       Drama  Contemporary Fiction     None   \n\n   Rotten_Tomatoes_Rating  IMDB_Rating  IMDB_Votes  \n0                     NaN          6.1      1071.0  \n1                     NaN          6.9       207.0  \n2                     NaN          6.8       865.0  \n3                    13.0          NaN         NaN  \n4                    62.0          3.4       165.0  ",
      "text/html": "<div>\n<style scoped>\n    .dataframe tbody tr th:only-of-type {\n        vertical-align: middle;\n    }\n\n    .dataframe tbody tr th {\n        vertical-align: top;\n    }\n\n    .dataframe thead th {\n        text-align: right;\n    }\n</style>\n<table border=\"1\" class=\"dataframe\">\n  <thead>\n    <tr style=\"text-align: right;\">\n      <th></th>\n      <th>Title</th>\n      <th>US_Gross</th>\n      <th>Worldwide_Gross</th>\n      <th>US_DVD_Sales</th>\n      <th>Production_Budget</th>\n      <th>Release_Date</th>\n      <th>MPAA_Rating</th>\n      <th>Running_Time_min</th>\n      <th>Distributor</th>\n      <th>Source</th>\n      <th>Major_Genre</th>\n      <th>Creative_Type</th>\n      <th>Director</th>\n      <th>Rotten_Tomatoes_Rating</th>\n      <th>IMDB_Rating</th>\n      <th>IMDB_Votes</th>\n    </tr>\n  </thead>\n  <tbody>\n    <tr>\n      <th>0</th>\n      <td>The Land Girls</td>\n      <td>146083.0</td>\n      <td>146083.0</td>\n      <td>NaN</td>\n      <td>8000000.0</td>\n      <td>Jun 12 1998</td>\n      <td>R</td>\n      <td>NaN</td>\n      <td>Gramercy</td>\n      <td>None</td>\n      <td>None</td>\n      <td>None</td>\n      <td>None</td>\n      <td>NaN</td>\n      <td>6.1</td>\n      <td>1071.0</td>\n    </tr>\n    <tr>\n      <th>1</th>\n      <td>First Love, Last Rites</td>\n      <td>10876.0</td>\n      <td>10876.0</td>\n      <td>NaN</td>\n      <td>300000.0</td>\n      <td>Aug 07 1998</td>\n      <td>R</td>\n      <td>NaN</td>\n      <td>Strand</td>\n      <td>None</td>\n      <td>Drama</td>\n      <td>None</td>\n      <td>None</td>\n      <td>NaN</td>\n      <td>6.9</td>\n      <td>207.0</td>\n    </tr>\n    <tr>\n      <th>2</th>\n      <td>I Married a Strange Person</td>\n      <td>203134.0</td>\n      <td>203134.0</td>\n      <td>NaN</td>\n      <td>250000.0</td>\n      <td>Aug 28 1998</td>\n      <td>None</td>\n      <td>NaN</td>\n      <td>Lionsgate</td>\n      <td>None</td>\n      <td>Comedy</td>\n      <td>None</td>\n      <td>None</td>\n      <td>NaN</td>\n      <td>6.8</td>\n      <td>865.0</td>\n    </tr>\n    <tr>\n      <th>3</th>\n      <td>Let's Talk About Sex</td>\n      <td>373615.0</td>\n      <td>373615.0</td>\n      <td>NaN</td>\n      <td>300000.0</td>\n      <td>Sep 11 1998</td>\n      <td>None</td>\n      <td>NaN</td>\n      <td>Fine Line</td>\n      <td>None</td>\n      <td>Comedy</td>\n      <td>None</td>\n      <td>None</td>\n      <td>13.0</td>\n      <td>NaN</td>\n      <td>NaN</td>\n    </tr>\n    <tr>\n      <th>4</th>\n      <td>Slam</td>\n      <td>1009819.0</td>\n      <td>1087521.0</td>\n      <td>NaN</td>\n      <td>1000000.0</td>\n      <td>Oct 09 1998</td>\n      <td>R</td>\n      <td>NaN</td>\n      <td>Trimark</td>\n      <td>Original Screenplay</td>\n      <td>Drama</td>\n      <td>Contemporary Fiction</td>\n      <td>None</td>\n      <td>62.0</td>\n      <td>3.4</td>\n      <td>165.0</td>\n    </tr>\n  </tbody>\n</table>\n</div>"
     },
     "execution_count": 3,
     "metadata": {},
     "output_type": "execute_result"
    }
   ],
   "source": [
    "movies.head()"
   ],
   "metadata": {
    "collapsed": false
   }
  },
  {
   "cell_type": "code",
   "execution_count": 6,
   "outputs": [
    {
     "data": {
      "text/html": "\n<div id=\"altair-viz-79fc4bf10ddf4fba8b85057d8a56cf26\"></div>\n<script type=\"text/javascript\">\n  (function(spec, embedOpt){\n    let outputDiv = document.currentScript.previousElementSibling;\n    if (outputDiv.id !== \"altair-viz-79fc4bf10ddf4fba8b85057d8a56cf26\") {\n      outputDiv = document.getElementById(\"altair-viz-79fc4bf10ddf4fba8b85057d8a56cf26\");\n    }\n    const paths = {\n      \"vega\": \"https://cdn.jsdelivr.net/npm//vega@5?noext\",\n      \"vega-lib\": \"https://cdn.jsdelivr.net/npm//vega-lib?noext\",\n      \"vega-lite\": \"https://cdn.jsdelivr.net/npm//vega-lite@4.8.1?noext\",\n      \"vega-embed\": \"https://cdn.jsdelivr.net/npm//vega-embed@6?noext\",\n    };\n\n    function loadScript(lib) {\n      return new Promise(function(resolve, reject) {\n        var s = document.createElement('script');\n        s.src = paths[lib];\n        s.async = true;\n        s.onload = () => resolve(paths[lib]);\n        s.onerror = () => reject(`Error loading script: ${paths[lib]}`);\n        document.getElementsByTagName(\"head\")[0].appendChild(s);\n      });\n    }\n\n    function showError(err) {\n      outputDiv.innerHTML = `<div class=\"error\" style=\"color:red;\">${err}</div>`;\n      throw err;\n    }\n\n    function displayChart(vegaEmbed) {\n      vegaEmbed(outputDiv, spec, embedOpt)\n        .catch(err => showError(`Javascript Error: ${err.message}<br>This usually means there's a typo in your chart specification. See the javascript console for the full traceback.`));\n    }\n\n    if(typeof define === \"function\" && define.amd) {\n      requirejs.config({paths});\n      require([\"vega-embed\"], displayChart, err => showError(`Error loading script: ${err.message}`));\n    } else if (typeof vegaEmbed === \"function\") {\n      displayChart(vegaEmbed);\n    } else {\n      loadScript(\"vega\")\n        .then(() => loadScript(\"vega-lite\"))\n        .then(() => loadScript(\"vega-embed\"))\n        .catch(showError)\n        .then(() => displayChart(vegaEmbed));\n    }\n  })({\"config\": {\"view\": {\"continuousWidth\": 400, \"continuousHeight\": 300}}, \"data\": {\"url\": \"https://cdn.jsdelivr.net/npm/vega-datasets@1/data/movies.json\"}, \"mark\": \"circle\", \"encoding\": {\"x\": {\"type\": \"quantitative\", \"bin\": {\"maxbins\": 20}, \"field\": \"Rotten_Tomatoes_Rating\"}, \"y\": {\"type\": \"quantitative\", \"field\": \"IMDB_Rating\"}}, \"$schema\": \"https://vega.github.io/schema/vega-lite/v4.8.1.json\"}, {\"mode\": \"vega-lite\"});\n</script>",
      "text/plain": "alt.Chart(...)"
     },
     "execution_count": 6,
     "metadata": {},
     "output_type": "execute_result"
    }
   ],
   "source": [
    "alt.Chart(movies_url).mark_circle().encode(\n",
    "    alt.X('Rotten_Tomatoes_Rating:Q', bin=alt.BinParams(maxbins=20)),\n",
    "    alt.Y('IMDB_Rating:Q')\n",
    ")"
   ],
   "metadata": {
    "collapsed": false
   }
  },
  {
   "cell_type": "code",
   "execution_count": null,
   "outputs": [],
   "source": [],
   "metadata": {
    "collapsed": false
   }
  }
 ],
 "metadata": {
  "kernelspec": {
   "display_name": "Python 3",
   "language": "python",
   "name": "python3"
  },
  "language_info": {
   "codemirror_mode": {
    "name": "ipython",
    "version": 2
   },
   "file_extension": ".py",
   "mimetype": "text/x-python",
   "name": "python",
   "nbconvert_exporter": "python",
   "pygments_lexer": "ipython2",
   "version": "2.7.6"
  }
 },
 "nbformat": 4,
 "nbformat_minor": 0
}
